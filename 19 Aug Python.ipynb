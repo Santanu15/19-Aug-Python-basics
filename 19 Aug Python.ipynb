{
 "cells": [
  {
   "cell_type": "code",
   "execution_count": 4,
   "id": "0e4c3a87-c952-4252-b42c-fd5cf0432a8f",
   "metadata": {},
   "outputs": [],
   "source": [
    "#1.Declare two variables, `x` and `y`, and assign them integer values. Swap the values of these variables without using any temporary variable."
   ]
  },
  {
   "cell_type": "code",
   "execution_count": 32,
   "id": "a8005740-3283-4a93-b148-ea821e6e9122",
   "metadata": {},
   "outputs": [
    {
     "name": "stdout",
     "output_type": "stream",
     "text": [
      "before swap: 2 3\n",
      "after swap: 3 2\n"
     ]
    }
   ],
   "source": [
    "x=2\n",
    "y=3\n",
    "\n",
    "print(\"before swap:\", x,y)\n",
    "\n",
    "x,y=y,x\n",
    "\n",
    "print(\"after swap:\", x,y)\n",
    "    \n",
    "\n"
   ]
  },
  {
   "cell_type": "code",
   "execution_count": 31,
   "id": "a65c2f77-f8bc-43c2-b829-23d4fa315568",
   "metadata": {},
   "outputs": [],
   "source": [
    "#2.Create a program that calculates the area of a rectangle.Take the length and width as inputs from the user and store them in variables. Calculate and display the area."
   ]
  },
  {
   "cell_type": "code",
   "execution_count": 36,
   "id": "6f605ace-1bf5-4eb4-b750-bc19fc7a9d2c",
   "metadata": {},
   "outputs": [
    {
     "name": "stdin",
     "output_type": "stream",
     "text": [
      "Enter length:   30\n",
      "Enter breadth:   25\n"
     ]
    },
    {
     "name": "stdout",
     "output_type": "stream",
     "text": [
      "Area is: 750.0\n"
     ]
    }
   ],
   "source": [
    "length= float(input(\"Enter length:  \"))\n",
    "breadth=float(input(\"Enter breadth:  \"))\n",
    "\n",
    "area= length * breadth\n",
    "\n",
    "print(\"Area is:\", area)"
   ]
  },
  {
   "cell_type": "code",
   "execution_count": 37,
   "id": "dcf8e372-6ffd-4bae-ab16-802efe116518",
   "metadata": {},
   "outputs": [],
   "source": [
    "#3.Write a Python program that converts temperatures from Celsius to Fahrenheit.Take the temperature in Celsius as input,store it in a variable,convert it to Fahrenheit,and display the result."
   ]
  },
  {
   "cell_type": "code",
   "execution_count": 43,
   "id": "b76dcae4-6788-4b3d-bd3e-e98b2d16e461",
   "metadata": {},
   "outputs": [
    {
     "name": "stdin",
     "output_type": "stream",
     "text": [
      "Enter Celcius:   100\n"
     ]
    },
    {
     "name": "stdout",
     "output_type": "stream",
     "text": [
      "Fahrenheit temperature is: 212.0\n"
     ]
    }
   ],
   "source": [
    "celsius= float(input(\"Enter Celcius:  \"))\n",
    "\n",
    "fahrenheit= (celsius * 9/5) + 32\n",
    "\n",
    "print(\"Fahrenheit temperature is:\", fahrenheit)"
   ]
  },
  {
   "cell_type": "code",
   "execution_count": null,
   "id": "4dbe34a8-9026-4335-ba1e-cde75785377b",
   "metadata": {},
   "outputs": [],
   "source": []
  }
 ],
 "metadata": {
  "kernelspec": {
   "display_name": "Python 3 (ipykernel)",
   "language": "python",
   "name": "python3"
  },
  "language_info": {
   "codemirror_mode": {
    "name": "ipython",
    "version": 3
   },
   "file_extension": ".py",
   "mimetype": "text/x-python",
   "name": "python",
   "nbconvert_exporter": "python",
   "pygments_lexer": "ipython3",
   "version": "3.10.8"
  }
 },
 "nbformat": 4,
 "nbformat_minor": 5
}
